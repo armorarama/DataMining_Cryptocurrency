{
 "cells": [
  {
   "cell_type": "code",
   "execution_count": 12,
   "metadata": {},
   "outputs": [
    {
     "data": {
      "text/html": [
       "<div>\n",
       "<style>\n",
       "    .dataframe thead tr:only-child th {\n",
       "        text-align: right;\n",
       "    }\n",
       "\n",
       "    .dataframe thead th {\n",
       "        text-align: left;\n",
       "    }\n",
       "\n",
       "    .dataframe tbody tr th {\n",
       "        vertical-align: top;\n",
       "    }\n",
       "</style>\n",
       "<table border=\"1\" class=\"dataframe\">\n",
       "  <thead>\n",
       "    <tr style=\"text-align: right;\">\n",
       "      <th></th>\n",
       "      <th>Unnamed: 0</th>\n",
       "      <th>Date</th>\n",
       "      <th>Open</th>\n",
       "      <th>High</th>\n",
       "      <th>Low</th>\n",
       "      <th>Close</th>\n",
       "      <th>Volume</th>\n",
       "      <th>Market Cap</th>\n",
       "      <th>Mean</th>\n",
       "      <th>normalize</th>\n",
       "      <th>Diff</th>\n",
       "      <th>Class</th>\n",
       "    </tr>\n",
       "  </thead>\n",
       "  <tbody>\n",
       "    <tr>\n",
       "      <th>0</th>\n",
       "      <td>0</td>\n",
       "      <td>Nov 07, 2017</td>\n",
       "      <td>7023.1000</td>\n",
       "      <td>7253.3200</td>\n",
       "      <td>7023.1000</td>\n",
       "      <td>7144.3800</td>\n",
       "      <td>2.326340e+09</td>\n",
       "      <td>1.170560e+11</td>\n",
       "      <td>7083.7400</td>\n",
       "      <td>5.624654</td>\n",
       "      <td>NaN</td>\n",
       "      <td>False</td>\n",
       "    </tr>\n",
       "    <tr>\n",
       "      <th>1</th>\n",
       "      <td>1</td>\n",
       "      <td>Nov 06, 2017</td>\n",
       "      <td>7213.8100</td>\n",
       "      <td>7435.4000</td>\n",
       "      <td>7178.1450</td>\n",
       "      <td>7275.8950</td>\n",
       "      <td>2.353375e+09</td>\n",
       "      <td>1.202220e+11</td>\n",
       "      <td>7244.8525</td>\n",
       "      <td>5.769435</td>\n",
       "      <td>0.144781</td>\n",
       "      <td>False</td>\n",
       "    </tr>\n",
       "    <tr>\n",
       "      <th>2</th>\n",
       "      <td>2</td>\n",
       "      <td>Nov 05, 2017</td>\n",
       "      <td>7404.5200</td>\n",
       "      <td>7617.4800</td>\n",
       "      <td>7333.1900</td>\n",
       "      <td>7407.4100</td>\n",
       "      <td>2.380410e+09</td>\n",
       "      <td>1.233880e+11</td>\n",
       "      <td>7405.9650</td>\n",
       "      <td>5.914215</td>\n",
       "      <td>0.144781</td>\n",
       "      <td>True</td>\n",
       "    </tr>\n",
       "    <tr>\n",
       "      <th>3</th>\n",
       "      <td>3</td>\n",
       "      <td>Nov 04, 2017</td>\n",
       "      <td>7246.0250</td>\n",
       "      <td>7539.3850</td>\n",
       "      <td>7168.0650</td>\n",
       "      <td>7307.5850</td>\n",
       "      <td>2.875135e+09</td>\n",
       "      <td>1.207360e+11</td>\n",
       "      <td>7276.8050</td>\n",
       "      <td>5.798148</td>\n",
       "      <td>-0.116067</td>\n",
       "      <td>True</td>\n",
       "    </tr>\n",
       "    <tr>\n",
       "      <th>4</th>\n",
       "      <td>4</td>\n",
       "      <td>Nov 03, 2017</td>\n",
       "      <td>7011.8975</td>\n",
       "      <td>7453.3575</td>\n",
       "      <td>6963.3925</td>\n",
       "      <td>7193.0425</td>\n",
       "      <td>3.764452e+09</td>\n",
       "      <td>1.168230e+11</td>\n",
       "      <td>7102.4700</td>\n",
       "      <td>5.641486</td>\n",
       "      <td>-0.156663</td>\n",
       "      <td>True</td>\n",
       "    </tr>\n",
       "  </tbody>\n",
       "</table>\n",
       "</div>"
      ],
      "text/plain": [
       "   Unnamed: 0          Date       Open       High        Low      Close  \\\n",
       "0           0  Nov 07, 2017  7023.1000  7253.3200  7023.1000  7144.3800   \n",
       "1           1  Nov 06, 2017  7213.8100  7435.4000  7178.1450  7275.8950   \n",
       "2           2  Nov 05, 2017  7404.5200  7617.4800  7333.1900  7407.4100   \n",
       "3           3  Nov 04, 2017  7246.0250  7539.3850  7168.0650  7307.5850   \n",
       "4           4  Nov 03, 2017  7011.8975  7453.3575  6963.3925  7193.0425   \n",
       "\n",
       "         Volume    Market Cap       Mean  normalize      Diff  Class  \n",
       "0  2.326340e+09  1.170560e+11  7083.7400   5.624654       NaN  False  \n",
       "1  2.353375e+09  1.202220e+11  7244.8525   5.769435  0.144781  False  \n",
       "2  2.380410e+09  1.233880e+11  7405.9650   5.914215  0.144781   True  \n",
       "3  2.875135e+09  1.207360e+11  7276.8050   5.798148 -0.116067   True  \n",
       "4  3.764452e+09  1.168230e+11  7102.4700   5.641486 -0.156663   True  "
      ]
     },
     "execution_count": 12,
     "metadata": {},
     "output_type": "execute_result"
    }
   ],
   "source": [
    "import random\n",
    "import pandas as pd\n",
    "import numpy as np\n",
    "df = pd.read_csv('./data/stepTwoData.csv', sep=',',header=0)\n",
    "df.head()"
   ]
  },
  {
   "cell_type": "code",
   "execution_count": 13,
   "metadata": {
    "collapsed": true
   },
   "outputs": [],
   "source": [
    "from sklearn import preprocessing\n",
    "from sklearn.linear_model import LogisticRegression\n",
    "from sklearn.metrics import r2_score, accuracy_score"
   ]
  },
  {
   "cell_type": "code",
   "execution_count": 14,
   "metadata": {},
   "outputs": [
    {
     "name": "stdout",
     "output_type": "stream",
     "text": [
      "0.853333333333\n"
     ]
    }
   ],
   "source": [
    "df = df[:301]\n",
    "for x in range(301):\n",
    "    for y in range(2,8):\n",
    "        df.iloc[x,y] += random.uniform(-10, 10)\n",
    "\n",
    "\n",
    "df['Class'] = None #Creates a class analysis for the data\n",
    "for y in range(len(df)-1):\n",
    "    if df.loc[y+1,'Close'] < df.loc[y,'Close']:\n",
    "        df.loc[y, 'Class'] = True\n",
    "    else:\n",
    "        df.loc[y, 'Class'] = False\n",
    "        \n",
    "df = df.drop(df.index[-1])\n",
    "df.head()\n",
    "\n",
    "y=df.iloc[:,-1].fillna(df.mean()).as_matrix()\n",
    "\n",
    "x=df.iloc[:,2:8].fillna(df.mean()).as_matrix()\n",
    "\n",
    "classify = LogisticRegression(penalty='l1',C=10.0)\n",
    "classify.fit(x,y)\n",
    "yhat=classify.predict(x)\n",
    "print accuracy_score(y,yhat)"
   ]
  },
  {
   "cell_type": "code",
   "execution_count": null,
   "metadata": {
    "collapsed": true
   },
   "outputs": [],
   "source": []
  }
 ],
 "metadata": {
  "kernelspec": {
   "display_name": "Python 2",
   "language": "python",
   "name": "python2"
  },
  "language_info": {
   "codemirror_mode": {
    "name": "ipython",
    "version": 2
   },
   "file_extension": ".py",
   "mimetype": "text/x-python",
   "name": "python",
   "nbconvert_exporter": "python",
   "pygments_lexer": "ipython2",
   "version": "2.7.13"
  }
 },
 "nbformat": 4,
 "nbformat_minor": 2
}
