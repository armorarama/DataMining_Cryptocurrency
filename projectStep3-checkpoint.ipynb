{
 "cells": [
  {
   "cell_type": "markdown",
   "metadata": {},
   "source": [
    "# Prediction of Cryptocurrency based on historical prices Step 3\n",
    "\n",
    "We begin by importing the data collected from step 1 in order to use the cleaned data.  "
   ]
  },
  {
   "cell_type": "code",
   "execution_count": 1,
   "metadata": {
    "scrolled": false
   },
   "outputs": [
    {
     "data": {
      "text/html": [
       "<div>\n",
       "<style>\n",
       "    .dataframe thead tr:only-child th {\n",
       "        text-align: right;\n",
       "    }\n",
       "\n",
       "    .dataframe thead th {\n",
       "        text-align: left;\n",
       "    }\n",
       "\n",
       "    .dataframe tbody tr th {\n",
       "        vertical-align: top;\n",
       "    }\n",
       "</style>\n",
       "<table border=\"1\" class=\"dataframe\">\n",
       "  <thead>\n",
       "    <tr style=\"text-align: right;\">\n",
       "      <th></th>\n",
       "      <th>Unnamed: 0</th>\n",
       "      <th>Date</th>\n",
       "      <th>Open</th>\n",
       "      <th>High</th>\n",
       "      <th>Low</th>\n",
       "      <th>Close</th>\n",
       "      <th>Volume</th>\n",
       "      <th>Market Cap</th>\n",
       "      <th>Mean</th>\n",
       "      <th>normalize</th>\n",
       "      <th>Diff</th>\n",
       "      <th>Class</th>\n",
       "    </tr>\n",
       "  </thead>\n",
       "  <tbody>\n",
       "    <tr>\n",
       "      <th>0</th>\n",
       "      <td>0</td>\n",
       "      <td>Nov 07, 2017</td>\n",
       "      <td>7023.1000</td>\n",
       "      <td>7253.3200</td>\n",
       "      <td>7023.1000</td>\n",
       "      <td>7144.3800</td>\n",
       "      <td>2.326340e+09</td>\n",
       "      <td>1.170560e+11</td>\n",
       "      <td>7083.7400</td>\n",
       "      <td>5.624654</td>\n",
       "      <td>NaN</td>\n",
       "      <td>False</td>\n",
       "    </tr>\n",
       "    <tr>\n",
       "      <th>1</th>\n",
       "      <td>1</td>\n",
       "      <td>Nov 06, 2017</td>\n",
       "      <td>7213.8100</td>\n",
       "      <td>7435.4000</td>\n",
       "      <td>7178.1450</td>\n",
       "      <td>7275.8950</td>\n",
       "      <td>2.353375e+09</td>\n",
       "      <td>1.202220e+11</td>\n",
       "      <td>7244.8525</td>\n",
       "      <td>5.769435</td>\n",
       "      <td>0.144781</td>\n",
       "      <td>False</td>\n",
       "    </tr>\n",
       "    <tr>\n",
       "      <th>2</th>\n",
       "      <td>2</td>\n",
       "      <td>Nov 05, 2017</td>\n",
       "      <td>7404.5200</td>\n",
       "      <td>7617.4800</td>\n",
       "      <td>7333.1900</td>\n",
       "      <td>7407.4100</td>\n",
       "      <td>2.380410e+09</td>\n",
       "      <td>1.233880e+11</td>\n",
       "      <td>7405.9650</td>\n",
       "      <td>5.914215</td>\n",
       "      <td>0.144781</td>\n",
       "      <td>True</td>\n",
       "    </tr>\n",
       "    <tr>\n",
       "      <th>3</th>\n",
       "      <td>3</td>\n",
       "      <td>Nov 04, 2017</td>\n",
       "      <td>7246.0250</td>\n",
       "      <td>7539.3850</td>\n",
       "      <td>7168.0650</td>\n",
       "      <td>7307.5850</td>\n",
       "      <td>2.875135e+09</td>\n",
       "      <td>1.207360e+11</td>\n",
       "      <td>7276.8050</td>\n",
       "      <td>5.798148</td>\n",
       "      <td>-0.116067</td>\n",
       "      <td>True</td>\n",
       "    </tr>\n",
       "    <tr>\n",
       "      <th>4</th>\n",
       "      <td>4</td>\n",
       "      <td>Nov 03, 2017</td>\n",
       "      <td>7011.8975</td>\n",
       "      <td>7453.3575</td>\n",
       "      <td>6963.3925</td>\n",
       "      <td>7193.0425</td>\n",
       "      <td>3.764452e+09</td>\n",
       "      <td>1.168230e+11</td>\n",
       "      <td>7102.4700</td>\n",
       "      <td>5.641486</td>\n",
       "      <td>-0.156663</td>\n",
       "      <td>True</td>\n",
       "    </tr>\n",
       "  </tbody>\n",
       "</table>\n",
       "</div>"
      ],
      "text/plain": [
       "   Unnamed: 0          Date       Open       High        Low      Close  \\\n",
       "0           0  Nov 07, 2017  7023.1000  7253.3200  7023.1000  7144.3800   \n",
       "1           1  Nov 06, 2017  7213.8100  7435.4000  7178.1450  7275.8950   \n",
       "2           2  Nov 05, 2017  7404.5200  7617.4800  7333.1900  7407.4100   \n",
       "3           3  Nov 04, 2017  7246.0250  7539.3850  7168.0650  7307.5850   \n",
       "4           4  Nov 03, 2017  7011.8975  7453.3575  6963.3925  7193.0425   \n",
       "\n",
       "         Volume    Market Cap       Mean  normalize      Diff  Class  \n",
       "0  2.326340e+09  1.170560e+11  7083.7400   5.624654       NaN  False  \n",
       "1  2.353375e+09  1.202220e+11  7244.8525   5.769435  0.144781  False  \n",
       "2  2.380410e+09  1.233880e+11  7405.9650   5.914215  0.144781   True  \n",
       "3  2.875135e+09  1.207360e+11  7276.8050   5.798148 -0.116067   True  \n",
       "4  3.764452e+09  1.168230e+11  7102.4700   5.641486 -0.156663   True  "
      ]
     },
     "execution_count": 1,
     "metadata": {},
     "output_type": "execute_result"
    }
   ],
   "source": [
    "import pandas as pd\n",
    "import numpy as np\n",
    "import matplotlib.pyplot as plt\n",
    "%matplotlib inline\n",
    "\n",
    "df = pd.read_csv('./data/stepTwoData.csv', sep=',',header=0)\n",
    "#df = pd.read_csv('./stepTwoData.csv', sep=',',header=0)\n",
    "df.head()"
   ]
  },
  {
   "cell_type": "markdown",
   "metadata": {},
   "source": [
    "# Model Selection and Parameter Seaching\n",
    "\n",
    "### 1. Grid Search and Cross Validation in a for loop\n",
    "\n",
    "This checks several different models with several different parameters in order to find the best parameters \n",
    "\n",
    "The results can be seen below but from inital estimations it seems like Logistic Regression using a L1 penalty is the best model."
   ]
  },
  {
   "cell_type": "code",
   "execution_count": 2,
   "metadata": {
    "scrolled": true
   },
   "outputs": [
    {
     "name": "stdout",
     "output_type": "stream",
     "text": [
      "(1412,)\n",
      "(1412, 6)\n",
      "Fitting 5 folds for each of 8 candidates, totalling 40 fits\n"
     ]
    },
    {
     "name": "stderr",
     "output_type": "stream",
     "text": [
      "[Parallel(n_jobs=1)]: Done  40 out of  40 | elapsed:    0.4s finished\n"
     ]
    },
    {
     "name": "stdout",
     "output_type": "stream",
     "text": [
      "{'criterion': 'entropy', 'max_depth': 50}\n",
      "0.495042492918\n",
      "Fitting 5 folds for each of 8 candidates, totalling 40 fits\n"
     ]
    },
    {
     "name": "stderr",
     "output_type": "stream",
     "text": [
      "[Parallel(n_jobs=1)]: Done  40 out of  40 | elapsed:    4.2s finished\n"
     ]
    },
    {
     "name": "stdout",
     "output_type": "stream",
     "text": [
      "{'n_estimators': 20, 'max_depth': 20}\n",
      "0.440509915014\n",
      "Fitting 5 folds for each of 16 candidates, totalling 80 fits\n"
     ]
    },
    {
     "name": "stderr",
     "output_type": "stream",
     "text": [
      "[Parallel(n_jobs=1)]: Done  80 out of  80 | elapsed:   16.8s finished\n"
     ]
    },
    {
     "name": "stdout",
     "output_type": "stream",
     "text": [
      "{'n_estimators': 150, 'max_depth': 5}\n",
      "0.485127478754\n",
      "Fitting 5 folds for each of 4 candidates, totalling 20 fits\n"
     ]
    },
    {
     "name": "stderr",
     "output_type": "stream",
     "text": [
      "[Parallel(n_jobs=1)]: Done  20 out of  20 | elapsed:    3.4s finished\n"
     ]
    },
    {
     "name": "stdout",
     "output_type": "stream",
     "text": [
      "{'C': 1.0, 'probability': True}\n",
      "0.514872521246\n",
      "Fitting 5 folds for each of 10 candidates, totalling 50 fits\n"
     ]
    },
    {
     "name": "stderr",
     "output_type": "stream",
     "text": [
      "[Parallel(n_jobs=1)]: Done  50 out of  50 | elapsed:   11.4s finished\n"
     ]
    },
    {
     "name": "stdout",
     "output_type": "stream",
     "text": [
      "{'penalty': 'l1', 'C': 10.0}\n",
      "0.838526912181\n"
     ]
    }
   ],
   "source": [
    "from sklearn import preprocessing\n",
    "from sklearn.model_selection import GridSearchCV\n",
    "from sklearn.tree import DecisionTreeClassifier\n",
    "from sklearn.ensemble import RandomForestClassifier\n",
    "from sklearn.ensemble import GradientBoostingClassifier\n",
    "from sklearn.svm import SVC\n",
    "from sklearn.linear_model import LogisticRegression\n",
    "\n",
    "\n",
    "y=df.iloc[:,-1].fillna(df.mean()).as_matrix()\n",
    "\n",
    "x=df.iloc[:,2:8].fillna(df.mean()).as_matrix()\n",
    "\n",
    "print y.shape\n",
    "print x.shape\n",
    "\n",
    "x = preprocessing.StandardScaler().fit_transform(x)  #normalizes data\n",
    "\n",
    "models = [DecisionTreeClassifier(), \n",
    "          RandomForestClassifier(), \n",
    "          GradientBoostingClassifier(),\n",
    "          SVC(),\n",
    "          LogisticRegression()]\n",
    "tuned_parameters = [{'criterion':[\"gini\",\"entropy\"], 'max_depth':[50, 3, 5, 10]},  # parameters for decision tree\n",
    "                    {'n_estimators':[10,20], 'max_depth':[20, 3, 5, 10]}, # parameters for random forest\n",
    "                    {'n_estimators':[100,50,10,150], 'max_depth':[2, 3, 5, 10]}, # parameters for gradient boosting\n",
    "                    {'C': [1.0, 10.0], 'probability': [True, False]}, # parameters for SVC\n",
    "                    {'penalty': ['l1', 'l2'], 'C': [1.0, 10.0, 25.0, 35.0, 100.0]}] # parameters for LogisticRegression\n",
    "\n",
    "# Higher score means a better model\n",
    "for model, tuned_parameter in zip(models, tuned_parameters):\n",
    "    classify = GridSearchCV(model,tuned_parameter,cv=5,verbose=1)\n",
    "    classify.fit(x,y)\n",
    "    print classify.best_params_\n",
    "    print classify.best_score_ "
   ]
  },
  {
   "cell_type": "markdown",
   "metadata": {
    "collapsed": true
   },
   "source": [
    "# Evaluation\n",
    "### 1. Accuracy Score\n",
    "\n",
    "This checks the accuracy score of the best parameters for each model.\n",
    "\n",
    "It seems like logistic Regression does not have the best ROC and in fact the Decision Tree and Gradient Boosting seem to have the highest ROC."
   ]
  },
  {
   "cell_type": "code",
   "execution_count": 3,
   "metadata": {},
   "outputs": [
    {
     "name": "stdout",
     "output_type": "stream",
     "text": [
      "1.0\n",
      "0.983711048159\n",
      "0.973796033994\n",
      "0.544617563739\n",
      "0.899433427762\n"
     ]
    }
   ],
   "source": [
    "from sklearn.metrics import r2_score, accuracy_score\n",
    "models, percents = ['Decision Tree', 'Random Forest', 'Gradient Boosing', 'SVC', 'Logistic Regression'], []\n",
    "\n",
    "classifies = [DecisionTreeClassifier(criterion='entropy', max_depth=50),\n",
    "              RandomForestClassifier(n_estimators=10,max_depth=20),\n",
    "              GradientBoostingClassifier(n_estimators=100, max_depth=5),\n",
    "              SVC(C=1.0, probability=True),\n",
    "              LogisticRegression(penalty='l1',C=10.0)]\n",
    "              \n",
    "\n",
    "for classify in classifies:\n",
    "    classify.fit(x,y)\n",
    "    yhat=classify.predict(x)\n",
    "    percents.append(accuracy_score(y,yhat))\n",
    "    print accuracy_score(y,yhat)\n"
   ]
  },
  {
   "cell_type": "markdown",
   "metadata": {},
   "source": [
    "# 2. ROC Area\n",
    "\n",
    "This graph demonstrates the best ROC from our best model.  The ROC is about .89 which is fairly good."
   ]
  },
  {
   "cell_type": "code",
   "execution_count": 4,
   "metadata": {},
   "outputs": [
    {
     "data": {
      "image/png": "[encoded data removed]",
      "text/plain": [
       "<matplotlib.figure.Figure at 0x112a554d0>"
      ]
     },
     "metadata": {},
     "output_type": "display_data"
    }
   ],
   "source": [
    "from sklearn.metrics import roc_curve, auc\n",
    "\n",
    "# Compute ROC curve and ROC area\n",
    "fpr, tpr, _ = roc_curve(y, yhat)\n",
    "roc_auc = auc(fpr, tpr)\n",
    "    \n",
    "plt.figure()\n",
    "lw = 2\n",
    "plt.plot(fpr, tpr, color='darkorange',\n",
    "         lw=lw, label='ROC curve (area = %0.2f)' % roc_auc)\n",
    "plt.plot([0, 1], [0, 1], color='navy', lw=lw, linestyle='--')\n",
    "plt.xlim([0.0, 1.0])\n",
    "plt.ylim([0.0, 1.05])\n",
    "plt.xlabel('False Positive Rate')\n",
    "plt.ylabel('True Positive Rate')\n",
    "plt.title('Receiver Operating Characteristic')\n",
    "plt.legend(loc=\"lower right\")\n",
    "#plt.axis('equal')\n",
    "#plt.axis([0, 0.5, 0, 1])\n",
    "plt.show()"
   ]
  },
  {
   "cell_type": "markdown",
   "metadata": {},
   "source": [
    "# Visualization: Matplotlib, bokeh, seaborn, plotly, d3.js:"
   ]
  },
  {
   "cell_type": "markdown",
   "metadata": {},
   "source": [
    "# 1. Matplotlib"
   ]
  },
  {
   "cell_type": "markdown",
   "metadata": {},
   "source": [
    "# Plot feature importance\n",
    "\n",
    "This plot demonstrates how important each feature is when predicting the model."
   ]
  },
  {
   "cell_type": "code",
   "execution_count": 5,
   "metadata": {},
   "outputs": [
    {
     "name": "stdout",
     "output_type": "stream",
     "text": [
      "['Open' 'High' 'Low' 'Close' 'Volume' 'Market Cap']\n",
      "[ 0.47508762  0.02304421  0.12305898  0.36970405  0.00084751  0.00825763]\n"
     ]
    },
    {
     "data": {
      "image/png": "[encoded data removed]",
      "text/plain": [
       "<matplotlib.figure.Figure at 0x112a559d0>"
      ]
     },
     "metadata": {},
     "output_type": "display_data"
    }
   ],
   "source": [
    "features= df.columns[2:8].values\n",
    "print features\n",
    "value = abs(classify.coef_[0])/sum(abs(classify.coef_[0]))\n",
    "print value\n",
    "\n",
    "ind=sorted(range(len(value)),reverse=False,key=lambda k: value[k])\n",
    "features=features[ind]\n",
    "value=sorted(value,reverse=False)\n",
    "ind=np.array(range(6))\n",
    "plt.rcParams['figure.figsize'] = (9,7)\n",
    "plt.barh(bottom=ind,height=0.5,width=value,color='r')\n",
    "plt.yticks(ind+0.25,features)\n",
    "plt.xlabel('Weights')\n",
    "plt.ylabel('Features')\n",
    "plt.title('Feature Importances')\n",
    "#plt.subplots_adjust(left=0.2)\n",
    "plt.tight_layout()\n",
    "#plt.savefig('feature_importances.png', format='png', dpi=300)\n",
    "plt.show()"
   ]
  },
  {
   "cell_type": "markdown",
   "metadata": {},
   "source": [
    "# Plot side-by-side comparison\n",
    "\n",
    "This plot shows the open and close data on average over a period of 5 months."
   ]
  },
  {
   "cell_type": "code",
   "execution_count": 6,
   "metadata": {},
   "outputs": [
    {
     "data": {
      "image/png": "[encoded data removed]",
      "text/plain": [
       "<matplotlib.figure.Figure at 0x114e9a850>"
      ]
     },
     "metadata": {},
     "output_type": "display_data"
    }
   ],
   "source": [
    "data = pd.read_csv('./data/armorastepTwoData2.csv', sep=',',header=0)\n",
    "opendata = {'Nov':[], 'Oct':[], 'Sep':[], 'Aug':[], 'Jul':[]}\n",
    "closedata = {'Nov':[], 'Oct':[], 'Sep':[], 'Aug':[], 'Jul':[]}\n",
    "\n",
    "from scipy import mean\n",
    "# print data\n",
    "meandic = {}\n",
    "for i in range(len(data)):\n",
    "    if data['month'][i] == 'Nov':\n",
    "        opendata['Nov'].append(data['Open'][i])\n",
    "    if data['month'][i] == 'Oct':\n",
    "        opendata['Oct'].append(data['Open'][i])\n",
    "    if data['month'][i] == 'Sep':\n",
    "        opendata['Sep'].append(data['Open'][i])\n",
    "    if data['month'][i] == 'Aug':\n",
    "        opendata['Aug'].append(data['Open'][i])\n",
    "    if data['month'][i] == 'Jul':\n",
    "        opendata['Jul'].append(data['Open'][i])\n",
    "\n",
    "open_mean = list(map(lambda x: mean(opendata[x]), opendata))\n",
    "\n",
    "for i in range(len(data)):\n",
    "    if data['month'][i] == 'Nov':\n",
    "        closedata['Nov'].append(data['Close'][i])\n",
    "    if data['month'][i] == 'Oct':\n",
    "        closedata['Oct'].append(data['Close'][i])\n",
    "    if data['month'][i] == 'Sep':\n",
    "        closedata['Sep'].append(data['Close'][i])\n",
    "    if data['month'][i] == 'Aug':\n",
    "        closedata['Aug'].append(data['Close'][i])\n",
    "    if data['month'][i] == 'Jul':\n",
    "        closedata['Jul'].append(data['Close'][i])\n",
    "close_mean = list(map(lambda x: mean(closedata[x]), closedata))\n",
    "\n",
    "\n",
    "ind = np.arange(len(opendata))  # the x locations for the groups\n",
    "width = 0.35       # the width of the bars\n",
    "\n",
    "fig, ax = plt.subplots()\n",
    "rects1 = ax.bar(ind, open_mean, width, color='r')\n",
    "\n",
    "rects2 = ax.bar(ind + width, close_mean, width, color='y')\n",
    "\n",
    "# add some text for labels, title and axes ticks\n",
    "ax.set_ylabel('Price')\n",
    "ax.set_title('Open and Close prices in 5 months')\n",
    "ax.set_xticks(ind + width / 2)\n",
    "ax.set_xticklabels(('Nov', 'Oct', 'Sep', 'Aug', 'Jul'))\n",
    "\n",
    "ax.legend((rects1[0], rects2[0]), ('Open', 'Close'))\n",
    "\n",
    "\n",
    "plt.show()"
   ]
  },
  {
   "cell_type": "markdown",
   "metadata": {},
   "source": [
    "# 2. seaborn\n",
    "\n",
    "This graph shows the distribution of each feature in a kde plot"
   ]
  },
  {
   "cell_type": "code",
   "execution_count": 7,
   "metadata": {},
   "outputs": [
    {
     "data": {
      "image/png": "[encoded data removed]",
      "text/plain": [
       "<matplotlib.figure.Figure at 0x11858af50>"
      ]
     },
     "metadata": {},
     "output_type": "display_data"
    }
   ],
   "source": [
    "#Tali\n",
    "#distribution of features in kde plot\n",
    "import seaborn as sns\n",
    "import numpy as np\n",
    "import matplotlib.pyplot as plt\n",
    "\n",
    "#sns.set(color_codes=True)\n",
    "#np.random.seed(sum(map(ord, \"distributions\")))\n",
    "\n",
    "#sns.distplot(x);\n",
    "#sns.distplot(x, kde=False, rug=True);\n",
    "\n",
    "\n",
    "sns.set(style=\"dark\")\n",
    "\n",
    "# Set up the matplotlib figure\n",
    "#f, axes = plt.subplots(3, 3, figsize=(9, 9), sharex=True, sharey=True)\n",
    "\n",
    "openF = df.iloc[:,2].fillna(df.mean()).as_matrix()\n",
    "highF = df.iloc[:,3].fillna(df.mean()).as_matrix()\n",
    "lowF = df.iloc[:,4].fillna(df.mean()).as_matrix()\n",
    "closeF = df.iloc[:,5].fillna(df.mean()).as_matrix()\n",
    "\n",
    "#ax = sns.kdeplot(openF, closeF, cmap=\"Reds\", shade=True, shade_lowest=False)\n",
    "#ax = sns.kdeplot(highF, lowF, cmap=\"Blues\", shade=True, shade_lowest=False)\n",
    "\n",
    "#red = sns.color_palette(\"Reds\")[-2]\n",
    "#sns.jointplot(openF, closeF, kind=\"kde\")\n",
    "\n",
    "# Set up the matplotlib figure\n",
    "f, axes = plt.subplots(3, 3, figsize=(9, 9), sharex=True, sharey=True)\n",
    "\n",
    "count = 0\n",
    "# Rotate the starting point around the cubehelix hue circle\n",
    "for ax, s in zip(axes.flat, np.linspace(0, 3, 10)):\n",
    "    count += 1\n",
    "    # Create a cubehelix colormap to use with kdeplot\n",
    "    cmap = sns.cubehelix_palette(start=s, light=1, as_cmap=True)\n",
    "\n",
    "    if count == 1:\n",
    "        #Open and close\n",
    "        x = df.iloc[:,2].fillna(df.mean()).as_matrix()\n",
    "        y = df.iloc[:,5].fillna(df.mean()).as_matrix()\n",
    "    if count == 2:\n",
    "        #high and low\n",
    "        x = df.iloc[:,3].fillna(df.mean()).as_matrix()\n",
    "        y = df.iloc[:,4].fillna(df.mean()).as_matrix()\n",
    "    if count == 3:\n",
    "        #open and low\n",
    "        x = df.iloc[:,2].fillna(df.mean()).as_matrix()\n",
    "        y = df.iloc[:,4].fillna(df.mean()).as_matrix()\n",
    "    if count == 4:\n",
    "        #close and low\n",
    "        x = df.iloc[:,5].fillna(df.mean()).as_matrix()\n",
    "        y = df.iloc[:,4].fillna(df.mean()).as_matrix()\n",
    "    if count == 5:\n",
    "        #open and high\n",
    "        x = df.iloc[:,2].fillna(df.mean()).as_matrix()\n",
    "        y = df.iloc[:,4].fillna(df.mean()).as_matrix()\n",
    "    if count == 6:\n",
    "        #close and high\n",
    "        x = df.iloc[:,5].fillna(df.mean()).as_matrix()\n",
    "        y = df.iloc[:,3].fillna(df.mean()).as_matrix()\n",
    "    if count == 7:\n",
    "        #Open and mean\n",
    "        x = df.iloc[:,2].fillna(df.mean()).as_matrix()\n",
    "        y = df.iloc[:,8].fillna(df.mean()).as_matrix()\n",
    "    if count == 8:\n",
    "        #close and mean\n",
    "        x = df.iloc[:,5].fillna(df.mean()).as_matrix()\n",
    "        y = df.iloc[:,8].fillna(df.mean()).as_matrix()\n",
    "    if count == 9:\n",
    "        #high and mean\n",
    "        x = df.iloc[:,3].fillna(df.mean()).as_matrix()\n",
    "        y = df.iloc[:,8].fillna(df.mean()).as_matrix()\n",
    "    axes[0, 0].set_title('Open Feature vs Close Feature')\n",
    "    axes[0, 1].set_title('High Feature vs Low Feature')\n",
    "    axes[0, 2].set_title('Open Feature vs Low Feature')\n",
    "    axes[1, 0].set_title('Close Feature vs Low Feature')\n",
    "    axes[1, 1].set_title('Open Feature vs High Feature')\n",
    "    axes[1, 2].set_title('Close Feature vs High Feature')\n",
    "    axes[2, 0].set_title('Open Feature vs Mean Feature')\n",
    "    axes[2, 1].set_title('Close Feature vs Mean Feature')\n",
    "    axes[2, 2].set_title('High Feature vs Mean Feature')\n",
    "    sns.kdeplot(x, y, cmap=cmap, shade=True, cut=5, ax=ax)\n",
    "    ax.set(xlim=(0, 1500), ylim=(0, 1500))\n",
    "\n",
    "f.tight_layout()\n",
    "plt.show()"
   ]
  },
  {
   "cell_type": "markdown",
   "metadata": {},
   "source": [
    "# 3. bokeh\n",
    "\n",
    "This graph demonstrates the accuracy of each of our models."
   ]
  },
  {
   "cell_type": "code",
   "execution_count": 6,
   "metadata": {
    "collapsed": true
   },
   "outputs": [],
   "source": [
    "#Matt\n",
    "from bokeh.io import show, output_file\n",
    "from bokeh.models import ColumnDataSource\n",
    "from bokeh.palettes import Spectral6\n",
    "from bokeh.plotting import figure\n",
    "\n",
    "\n",
    "output_file(\"bar_colormapped.html\")\n",
    "\n",
    "source = ColumnDataSource(data=dict(models=models, percents=percents))\n",
    "\n",
    "p = figure(x_range=models, plot_height=350, toolbar_location=None, title=\"Percentage of Accuracy\")\n",
    "p.vbar(x='models', top='percents', width=0.9, source=source,\n",
    "       line_color='white')\n",
    "\n",
    "p.xgrid.grid_line_color = None\n",
    "p.y_range.start = 0\n",
    "p.y_range.end = 1.1\n",
    "p.legend.orientation = \"horizontal\"\n",
    "p.legend.location = \"top_center\"\n",
    "\n",
    "show(p)"
   ]
  },
  {
   "cell_type": "markdown",
   "metadata": {},
   "source": [
    "# 4. Plotly\n",
    "\n",
    "This graph interactivly shows the change in price over time. Plotly is the best way to display this due to the many close data points"
   ]
  },
  {
   "cell_type": "code",
   "execution_count": 14,
   "metadata": {},
   "outputs": [
    {
     "data": {
      "text/html": [
       "<script>requirejs.config({paths: { 'plotly': ['https://cdn.plot.ly/plotly-latest.min']},});if(!window.Plotly) {{require(['plotly'],function(plotly) {window.Plotly=plotly;});}}</script>"
      ],
      "text/vnd.plotly.v1+html": [
       "<script>requirejs.config({paths: { 'plotly': ['https://cdn.plot.ly/plotly-latest.min']},});if(!window.Plotly) {{require(['plotly'],function(plotly) {window.Plotly=plotly;});}}</script>"
      ]
     },
     "metadata": {},
     "output_type": "display_data"
    },
    {
     "ename": "IOError",
     "evalue": "File ./stepTwoData.csv does not exist",
     "output_type": "error",
     "traceback": [
      "\u001b[0;31m---------------------------------------------------------------------------\u001b[0m",
      "\u001b[0;31mIOError\u001b[0m                                   Traceback (most recent call last)",
      "\u001b[0;32m<ipython-input-14-54c29f6409bf>\u001b[0m in \u001b[0;36m<module>\u001b[0;34m()\u001b[0m\n\u001b[1;32m      7\u001b[0m \u001b[0;32mfrom\u001b[0m \u001b[0mplotly\u001b[0m\u001b[0;34m.\u001b[0m\u001b[0moffline\u001b[0m \u001b[0;32mimport\u001b[0m \u001b[0mdownload_plotlyjs\u001b[0m\u001b[0;34m,\u001b[0m \u001b[0minit_notebook_mode\u001b[0m\u001b[0;34m,\u001b[0m \u001b[0mplot\u001b[0m\u001b[0;34m,\u001b[0m \u001b[0miplot\u001b[0m\u001b[0;34m\u001b[0m\u001b[0m\n\u001b[1;32m      8\u001b[0m \u001b[0;34m\u001b[0m\u001b[0m\n\u001b[0;32m----> 9\u001b[0;31m \u001b[0mdf\u001b[0m \u001b[0;34m=\u001b[0m \u001b[0mpd\u001b[0m\u001b[0;34m.\u001b[0m\u001b[0mread_csv\u001b[0m\u001b[0;34m(\u001b[0m\u001b[0;34m'./stepTwoData.csv'\u001b[0m\u001b[0;34m)\u001b[0m\u001b[0;34m\u001b[0m\u001b[0m\n\u001b[0m\u001b[1;32m     10\u001b[0m \u001b[0;34m\u001b[0m\u001b[0m\n\u001b[1;32m     11\u001b[0m \u001b[0mdata\u001b[0m \u001b[0;34m=\u001b[0m \u001b[0;34m[\u001b[0m\u001b[0mgo\u001b[0m\u001b[0;34m.\u001b[0m\u001b[0mScatter\u001b[0m\u001b[0;34m(\u001b[0m\u001b[0mx\u001b[0m\u001b[0;34m=\u001b[0m\u001b[0mdf\u001b[0m\u001b[0;34m.\u001b[0m\u001b[0mDate\u001b[0m\u001b[0;34m[\u001b[0m\u001b[0;34m:\u001b[0m\u001b[0;34m:\u001b[0m\u001b[0;34m-\u001b[0m\u001b[0;36m1\u001b[0m\u001b[0;34m]\u001b[0m\u001b[0;34m,\u001b[0m \u001b[0my\u001b[0m\u001b[0;34m=\u001b[0m\u001b[0mdf\u001b[0m\u001b[0;34m.\u001b[0m\u001b[0mMean\u001b[0m\u001b[0;34m[\u001b[0m\u001b[0;34m:\u001b[0m\u001b[0;34m:\u001b[0m\u001b[0;34m-\u001b[0m\u001b[0;36m1\u001b[0m\u001b[0;34m]\u001b[0m\u001b[0;34m,\u001b[0m\u001b[0mmode\u001b[0m \u001b[0;34m=\u001b[0m \u001b[0;34m'line+markers'\u001b[0m\u001b[0;34m,\u001b[0m \u001b[0mname\u001b[0m \u001b[0;34m=\u001b[0m \u001b[0;34m'lines+markers'\u001b[0m\u001b[0;34m)\u001b[0m\u001b[0;34m]\u001b[0m\u001b[0;34m\u001b[0m\u001b[0m\n",
      "\u001b[0;32m/anaconda/anaconda/lib/python2.7/site-packages/pandas/io/parsers.pyc\u001b[0m in \u001b[0;36mparser_f\u001b[0;34m(filepath_or_buffer, sep, delimiter, header, names, index_col, usecols, squeeze, prefix, mangle_dupe_cols, dtype, engine, converters, true_values, false_values, skipinitialspace, skiprows, nrows, na_values, keep_default_na, na_filter, verbose, skip_blank_lines, parse_dates, infer_datetime_format, keep_date_col, date_parser, dayfirst, iterator, chunksize, compression, thousands, decimal, lineterminator, quotechar, quoting, escapechar, comment, encoding, dialect, tupleize_cols, error_bad_lines, warn_bad_lines, skipfooter, skip_footer, doublequote, delim_whitespace, as_recarray, compact_ints, use_unsigned, low_memory, buffer_lines, memory_map, float_precision)\u001b[0m\n\u001b[1;32m    653\u001b[0m                     skip_blank_lines=skip_blank_lines)\n\u001b[1;32m    654\u001b[0m \u001b[0;34m\u001b[0m\u001b[0m\n\u001b[0;32m--> 655\u001b[0;31m         \u001b[0;32mreturn\u001b[0m \u001b[0m_read\u001b[0m\u001b[0;34m(\u001b[0m\u001b[0mfilepath_or_buffer\u001b[0m\u001b[0;34m,\u001b[0m \u001b[0mkwds\u001b[0m\u001b[0;34m)\u001b[0m\u001b[0;34m\u001b[0m\u001b[0m\n\u001b[0m\u001b[1;32m    656\u001b[0m \u001b[0;34m\u001b[0m\u001b[0m\n\u001b[1;32m    657\u001b[0m     \u001b[0mparser_f\u001b[0m\u001b[0;34m.\u001b[0m\u001b[0m__name__\u001b[0m \u001b[0;34m=\u001b[0m \u001b[0mname\u001b[0m\u001b[0;34m\u001b[0m\u001b[0m\n",
      "\u001b[0;32m/anaconda/anaconda/lib/python2.7/site-packages/pandas/io/parsers.pyc\u001b[0m in \u001b[0;36m_read\u001b[0;34m(filepath_or_buffer, kwds)\u001b[0m\n\u001b[1;32m    403\u001b[0m \u001b[0;34m\u001b[0m\u001b[0m\n\u001b[1;32m    404\u001b[0m     \u001b[0;31m# Create the parser.\u001b[0m\u001b[0;34m\u001b[0m\u001b[0;34m\u001b[0m\u001b[0m\n\u001b[0;32m--> 405\u001b[0;31m     \u001b[0mparser\u001b[0m \u001b[0;34m=\u001b[0m \u001b[0mTextFileReader\u001b[0m\u001b[0;34m(\u001b[0m\u001b[0mfilepath_or_buffer\u001b[0m\u001b[0;34m,\u001b[0m \u001b[0;34m**\u001b[0m\u001b[0mkwds\u001b[0m\u001b[0;34m)\u001b[0m\u001b[0;34m\u001b[0m\u001b[0m\n\u001b[0m\u001b[1;32m    406\u001b[0m \u001b[0;34m\u001b[0m\u001b[0m\n\u001b[1;32m    407\u001b[0m     \u001b[0;32mif\u001b[0m \u001b[0mchunksize\u001b[0m \u001b[0;32mor\u001b[0m \u001b[0miterator\u001b[0m\u001b[0;34m:\u001b[0m\u001b[0;34m\u001b[0m\u001b[0m\n",
      "\u001b[0;32m/anaconda/anaconda/lib/python2.7/site-packages/pandas/io/parsers.pyc\u001b[0m in \u001b[0;36m__init__\u001b[0;34m(self, f, engine, **kwds)\u001b[0m\n\u001b[1;32m    762\u001b[0m             \u001b[0mself\u001b[0m\u001b[0;34m.\u001b[0m\u001b[0moptions\u001b[0m\u001b[0;34m[\u001b[0m\u001b[0;34m'has_index_names'\u001b[0m\u001b[0;34m]\u001b[0m \u001b[0;34m=\u001b[0m \u001b[0mkwds\u001b[0m\u001b[0;34m[\u001b[0m\u001b[0;34m'has_index_names'\u001b[0m\u001b[0;34m]\u001b[0m\u001b[0;34m\u001b[0m\u001b[0m\n\u001b[1;32m    763\u001b[0m \u001b[0;34m\u001b[0m\u001b[0m\n\u001b[0;32m--> 764\u001b[0;31m         \u001b[0mself\u001b[0m\u001b[0;34m.\u001b[0m\u001b[0m_make_engine\u001b[0m\u001b[0;34m(\u001b[0m\u001b[0mself\u001b[0m\u001b[0;34m.\u001b[0m\u001b[0mengine\u001b[0m\u001b[0;34m)\u001b[0m\u001b[0;34m\u001b[0m\u001b[0m\n\u001b[0m\u001b[1;32m    765\u001b[0m \u001b[0;34m\u001b[0m\u001b[0m\n\u001b[1;32m    766\u001b[0m     \u001b[0;32mdef\u001b[0m \u001b[0mclose\u001b[0m\u001b[0;34m(\u001b[0m\u001b[0mself\u001b[0m\u001b[0;34m)\u001b[0m\u001b[0;34m:\u001b[0m\u001b[0;34m\u001b[0m\u001b[0m\n",
      "\u001b[0;32m/anaconda/anaconda/lib/python2.7/site-packages/pandas/io/parsers.pyc\u001b[0m in \u001b[0;36m_make_engine\u001b[0;34m(self, engine)\u001b[0m\n\u001b[1;32m    983\u001b[0m     \u001b[0;32mdef\u001b[0m \u001b[0m_make_engine\u001b[0m\u001b[0;34m(\u001b[0m\u001b[0mself\u001b[0m\u001b[0;34m,\u001b[0m \u001b[0mengine\u001b[0m\u001b[0;34m=\u001b[0m\u001b[0;34m'c'\u001b[0m\u001b[0;34m)\u001b[0m\u001b[0;34m:\u001b[0m\u001b[0;34m\u001b[0m\u001b[0m\n\u001b[1;32m    984\u001b[0m         \u001b[0;32mif\u001b[0m \u001b[0mengine\u001b[0m \u001b[0;34m==\u001b[0m \u001b[0;34m'c'\u001b[0m\u001b[0;34m:\u001b[0m\u001b[0;34m\u001b[0m\u001b[0m\n\u001b[0;32m--> 985\u001b[0;31m             \u001b[0mself\u001b[0m\u001b[0;34m.\u001b[0m\u001b[0m_engine\u001b[0m \u001b[0;34m=\u001b[0m \u001b[0mCParserWrapper\u001b[0m\u001b[0;34m(\u001b[0m\u001b[0mself\u001b[0m\u001b[0;34m.\u001b[0m\u001b[0mf\u001b[0m\u001b[0;34m,\u001b[0m \u001b[0;34m**\u001b[0m\u001b[0mself\u001b[0m\u001b[0;34m.\u001b[0m\u001b[0moptions\u001b[0m\u001b[0;34m)\u001b[0m\u001b[0;34m\u001b[0m\u001b[0m\n\u001b[0m\u001b[1;32m    986\u001b[0m         \u001b[0;32melse\u001b[0m\u001b[0;34m:\u001b[0m\u001b[0;34m\u001b[0m\u001b[0m\n\u001b[1;32m    987\u001b[0m             \u001b[0;32mif\u001b[0m \u001b[0mengine\u001b[0m \u001b[0;34m==\u001b[0m \u001b[0;34m'python'\u001b[0m\u001b[0;34m:\u001b[0m\u001b[0;34m\u001b[0m\u001b[0m\n",
      "\u001b[0;32m/anaconda/anaconda/lib/python2.7/site-packages/pandas/io/parsers.pyc\u001b[0m in \u001b[0;36m__init__\u001b[0;34m(self, src, **kwds)\u001b[0m\n\u001b[1;32m   1603\u001b[0m         \u001b[0mkwds\u001b[0m\u001b[0;34m[\u001b[0m\u001b[0;34m'allow_leading_cols'\u001b[0m\u001b[0;34m]\u001b[0m \u001b[0;34m=\u001b[0m \u001b[0mself\u001b[0m\u001b[0;34m.\u001b[0m\u001b[0mindex_col\u001b[0m \u001b[0;32mis\u001b[0m \u001b[0;32mnot\u001b[0m \u001b[0mFalse\u001b[0m\u001b[0;34m\u001b[0m\u001b[0m\n\u001b[1;32m   1604\u001b[0m \u001b[0;34m\u001b[0m\u001b[0m\n\u001b[0;32m-> 1605\u001b[0;31m         \u001b[0mself\u001b[0m\u001b[0;34m.\u001b[0m\u001b[0m_reader\u001b[0m \u001b[0;34m=\u001b[0m \u001b[0mparsers\u001b[0m\u001b[0;34m.\u001b[0m\u001b[0mTextReader\u001b[0m\u001b[0;34m(\u001b[0m\u001b[0msrc\u001b[0m\u001b[0;34m,\u001b[0m \u001b[0;34m**\u001b[0m\u001b[0mkwds\u001b[0m\u001b[0;34m)\u001b[0m\u001b[0;34m\u001b[0m\u001b[0m\n\u001b[0m\u001b[1;32m   1606\u001b[0m \u001b[0;34m\u001b[0m\u001b[0m\n\u001b[1;32m   1607\u001b[0m         \u001b[0;31m# XXX\u001b[0m\u001b[0;34m\u001b[0m\u001b[0;34m\u001b[0m\u001b[0m\n",
      "\u001b[0;32mpandas/_libs/parsers.pyx\u001b[0m in \u001b[0;36mpandas._libs.parsers.TextReader.__cinit__ (pandas/_libs/parsers.c:4209)\u001b[0;34m()\u001b[0m\n",
      "\u001b[0;32mpandas/_libs/parsers.pyx\u001b[0m in \u001b[0;36mpandas._libs.parsers.TextReader._setup_parser_source (pandas/_libs/parsers.c:8873)\u001b[0;34m()\u001b[0m\n",
      "\u001b[0;31mIOError\u001b[0m: File ./stepTwoData.csv does not exist"
     ]
    }
   ],
   "source": [
    "#Armora\n",
    "#price vs time for different features\n",
    "\n",
    "init_notebook_mode(connected=True)\n",
    "import plotly.plotly as py\n",
    "import plotly.graph_objs as go\n",
    "from plotly.offline import download_plotlyjs, init_notebook_mode, plot, iplot\n",
    "\n",
    "df = pd.read_csv('./stepTwoData.csv')\n",
    "\n",
    "data = [go.Scatter(x=df.Date[::-1], y=df.Mean[::-1],mode = 'line+markers', name = 'lines+markers')]\n",
    "\n",
    "iplot(data, filename='line-mode')"
   ]
  },
  {
   "cell_type": "markdown",
   "metadata": {},
   "source": [
    "## Test Data\n",
    "This generates randomized testing data and then predicts it with the same models."
   ]
  },
  {
   "cell_type": "code",
   "execution_count": 15,
   "metadata": {},
   "outputs": [
    {
     "data": {
      "text/html": [
       "<div>\n",
       "<style>\n",
       "    .dataframe thead tr:only-child th {\n",
       "        text-align: right;\n",
       "    }\n",
       "\n",
       "    .dataframe thead th {\n",
       "        text-align: left;\n",
       "    }\n",
       "\n",
       "    .dataframe tbody tr th {\n",
       "        vertical-align: top;\n",
       "    }\n",
       "</style>\n",
       "<table border=\"1\" class=\"dataframe\">\n",
       "  <thead>\n",
       "    <tr style=\"text-align: right;\">\n",
       "      <th></th>\n",
       "      <th>Unnamed: 0</th>\n",
       "      <th>Date</th>\n",
       "      <th>Open</th>\n",
       "      <th>High</th>\n",
       "      <th>Low</th>\n",
       "      <th>Close</th>\n",
       "      <th>Volume</th>\n",
       "      <th>Market Cap</th>\n",
       "      <th>Mean</th>\n",
       "      <th>normalize</th>\n",
       "      <th>Diff</th>\n",
       "      <th>Class</th>\n",
       "    </tr>\n",
       "  </thead>\n",
       "  <tbody>\n",
       "    <tr>\n",
       "      <th>0</th>\n",
       "      <td>0</td>\n",
       "      <td>Nov 07, 2017</td>\n",
       "      <td>7023.1000</td>\n",
       "      <td>7253.3200</td>\n",
       "      <td>7023.1000</td>\n",
       "      <td>7144.3800</td>\n",
       "      <td>2.326340e+09</td>\n",
       "      <td>1.170560e+11</td>\n",
       "      <td>7083.7400</td>\n",
       "      <td>5.624654</td>\n",
       "      <td>NaN</td>\n",
       "      <td>False</td>\n",
       "    </tr>\n",
       "    <tr>\n",
       "      <th>1</th>\n",
       "      <td>1</td>\n",
       "      <td>Nov 06, 2017</td>\n",
       "      <td>7213.8100</td>\n",
       "      <td>7435.4000</td>\n",
       "      <td>7178.1450</td>\n",
       "      <td>7275.8950</td>\n",
       "      <td>2.353375e+09</td>\n",
       "      <td>1.202220e+11</td>\n",
       "      <td>7244.8525</td>\n",
       "      <td>5.769435</td>\n",
       "      <td>0.144781</td>\n",
       "      <td>False</td>\n",
       "    </tr>\n",
       "    <tr>\n",
       "      <th>2</th>\n",
       "      <td>2</td>\n",
       "      <td>Nov 05, 2017</td>\n",
       "      <td>7404.5200</td>\n",
       "      <td>7617.4800</td>\n",
       "      <td>7333.1900</td>\n",
       "      <td>7407.4100</td>\n",
       "      <td>2.380410e+09</td>\n",
       "      <td>1.233880e+11</td>\n",
       "      <td>7405.9650</td>\n",
       "      <td>5.914215</td>\n",
       "      <td>0.144781</td>\n",
       "      <td>True</td>\n",
       "    </tr>\n",
       "    <tr>\n",
       "      <th>3</th>\n",
       "      <td>3</td>\n",
       "      <td>Nov 04, 2017</td>\n",
       "      <td>7246.0250</td>\n",
       "      <td>7539.3850</td>\n",
       "      <td>7168.0650</td>\n",
       "      <td>7307.5850</td>\n",
       "      <td>2.875135e+09</td>\n",
       "      <td>1.207360e+11</td>\n",
       "      <td>7276.8050</td>\n",
       "      <td>5.798148</td>\n",
       "      <td>-0.116067</td>\n",
       "      <td>True</td>\n",
       "    </tr>\n",
       "    <tr>\n",
       "      <th>4</th>\n",
       "      <td>4</td>\n",
       "      <td>Nov 03, 2017</td>\n",
       "      <td>7011.8975</td>\n",
       "      <td>7453.3575</td>\n",
       "      <td>6963.3925</td>\n",
       "      <td>7193.0425</td>\n",
       "      <td>3.764452e+09</td>\n",
       "      <td>1.168230e+11</td>\n",
       "      <td>7102.4700</td>\n",
       "      <td>5.641486</td>\n",
       "      <td>-0.156663</td>\n",
       "      <td>True</td>\n",
       "    </tr>\n",
       "  </tbody>\n",
       "</table>\n",
       "</div>"
      ],
      "text/plain": [
       "   Unnamed: 0          Date       Open       High        Low      Close  \\\n",
       "0           0  Nov 07, 2017  7023.1000  7253.3200  7023.1000  7144.3800   \n",
       "1           1  Nov 06, 2017  7213.8100  7435.4000  7178.1450  7275.8950   \n",
       "2           2  Nov 05, 2017  7404.5200  7617.4800  7333.1900  7407.4100   \n",
       "3           3  Nov 04, 2017  7246.0250  7539.3850  7168.0650  7307.5850   \n",
       "4           4  Nov 03, 2017  7011.8975  7453.3575  6963.3925  7193.0425   \n",
       "\n",
       "         Volume    Market Cap       Mean  normalize      Diff  Class  \n",
       "0  2.326340e+09  1.170560e+11  7083.7400   5.624654       NaN  False  \n",
       "1  2.353375e+09  1.202220e+11  7244.8525   5.769435  0.144781  False  \n",
       "2  2.380410e+09  1.233880e+11  7405.9650   5.914215  0.144781   True  \n",
       "3  2.875135e+09  1.207360e+11  7276.8050   5.798148 -0.116067   True  \n",
       "4  3.764452e+09  1.168230e+11  7102.4700   5.641486 -0.156663   True  "
      ]
     },
     "execution_count": 15,
     "metadata": {},
     "output_type": "execute_result"
    }
   ],
   "source": [
    "import random\n",
    "import pandas as pd\n",
    "import numpy as np\n",
    "df = pd.read_csv('./data/stepTwoData.csv', sep=',',header=0)\n",
    "df.head()"
   ]
  },
  {
   "cell_type": "code",
   "execution_count": 16,
   "metadata": {},
   "outputs": [
    {
     "name": "stdout",
     "output_type": "stream",
     "text": [
      "0.616666666667\n",
      "0.616666666667\n",
      "0.616666666667\n",
      "0.616666666667\n",
      "0.616666666667\n"
     ]
    }
   ],
   "source": [
    "df = df[:301]\n",
    "for x in range(301):\n",
    "    for y in range(2,8):\n",
    "        df.iloc[x,y] += random.uniform(-10, 10)\n",
    "\n",
    "\n",
    "df['Class'] = None #Creates a class analysis for the data\n",
    "for y in range(len(df)-1):\n",
    "    if df.loc[y+1,'Close'] < df.loc[y,'Close']:\n",
    "        df.loc[y, 'Class'] = True\n",
    "    else:\n",
    "        df.loc[y, 'Class'] = False\n",
    "        \n",
    "df = df.drop(df.index[-1])\n",
    "df.head()\n",
    "\n",
    "y=df.iloc[:,-1].fillna(df.mean()).as_matrix()\n",
    "\n",
    "x=df.iloc[:,2:8].fillna(df.mean()).as_matrix()\n",
    "\n",
    "\n",
    "models, percents = ['Decision Tree', 'Random Forest', 'Gradient Boosing', 'SVC', 'Logistic Regression'], []\n",
    "\n",
    "\n",
    "for classify in classifies:\n",
    "    yhat=classify.predict(x)\n",
    "    percents.append(accuracy_score(y,yhat))\n",
    "    print accuracy_score(y,yhat)"
   ]
  },
  {
   "cell_type": "markdown",
   "metadata": {},
   "source": [
    "#### Secondary Test\n",
    "We input this data Tuesday to predict whether the price will rise and fall wednesday."
   ]
  },
  {
   "cell_type": "code",
   "execution_count": 17,
   "metadata": {},
   "outputs": [
    {
     "name": "stderr",
     "output_type": "stream",
     "text": [
      "/anaconda/anaconda/lib/python2.7/site-packages/sklearn/utils/validation.py:395: DeprecationWarning:\n",
      "\n",
      "Passing 1d arrays as data is deprecated in 0.17 and will raise ValueError in 0.19. Reshape your data either using X.reshape(-1, 1) if your data has a single feature or X.reshape(1, -1) if it contains a single sample.\n",
      "\n"
     ]
    },
    {
     "name": "stdout",
     "output_type": "stream",
     "text": [
      "[ True]\n"
     ]
    }
   ],
   "source": [
    "x = np.array([11616.85, 11860.25, 11473.51, 11755.20, 16722375, 197000000])\n",
    "x.reshape(-1, 1)\n",
    "print classify.predict(x)\n",
    "df = pd.read_html('https://coinmarketcap.com/currencies/bitcoin/historical-data/', header=0)[0]"
   ]
  },
  {
   "cell_type": "code",
   "execution_count": 18,
   "metadata": {},
   "outputs": [
    {
     "name": "stdout",
     "output_type": "stream",
     "text": [
      "0.793103448276\n",
      "0.793103448276\n",
      "0.793103448276\n",
      "0.793103448276\n",
      "0.655172413793\n"
     ]
    }
   ],
   "source": [
    "#df = pd.read_html('https://coinmarketcap.com/currencies/bitcoin/historical-data/', header=0)[0]\n",
    "df.head()\n",
    "df['Class'] = None #Creates a class analysis for the data\n",
    "for y in range(len(df)-1):\n",
    "    if df.loc[y+1,'Close'] < df.loc[y,'Close']:\n",
    "        df.loc[y, 'Class'] = True\n",
    "    else:\n",
    "        df.loc[y, 'Class'] = False\n",
    "df = df.drop(df.index[-1])\n",
    "x=df.iloc[:,1:7].fillna(df.mean()).as_matrix()\n",
    "x = preprocessing.StandardScaler().fit_transform(x)\n",
    "y=df.iloc[:,-1].fillna(df.mean()).as_matrix()\n",
    "\n",
    "for classify in classifies:\n",
    "    yhat = classify.predict(x)\n",
    "    print accuracy_score(y,yhat)"
   ]
  },
  {
   "cell_type": "code",
   "execution_count": 20,
   "metadata": {},
   "outputs": [
    {
     "data": {
      "text/html": [
       "<script>requirejs.config({paths: { 'plotly': ['https://cdn.plot.ly/plotly-latest.min']},});if(!window.Plotly) {{require(['plotly'],function(plotly) {window.Plotly=plotly;});}}</script>"
      ],
      "text/vnd.plotly.v1+html": [
       "<script>requirejs.config({paths: { 'plotly': ['https://cdn.plot.ly/plotly-latest.min']},});if(!window.Plotly) {{require(['plotly'],function(plotly) {window.Plotly=plotly;});}}</script>"
      ]
     },
     "metadata": {},
     "output_type": "display_data"
    },
    {
     "data": {
      "application/vnd.plotly.v1+json": {
       "data": [
        {
         "type": "scatter",
         "x": [
          "Dec 11, 2017",
          "Dec 10, 2017",
          "Dec 09, 2017",
          "Dec 08, 2017",
          "Dec 07, 2017",
          "Dec 06, 2017",
          "Dec 05, 2017",
          "Dec 04, 2017",
          "Dec 03, 2017",
          "Dec 02, 2017",
          "Dec 01, 2017",
          "Nov 30, 2017",
          "Nov 29, 2017",
          "Nov 28, 2017",
          "Nov 27, 2017",
          "Nov 26, 2017",
          "Nov 25, 2017",
          "Nov 24, 2017",
          "Nov 23, 2017",
          "Nov 22, 2017",
          "Nov 21, 2017",
          "Nov 20, 2017",
          "Nov 19, 2017",
          "Nov 18, 2017",
          "Nov 17, 2017",
          "Nov 16, 2017",
          "Nov 15, 2017",
          "Nov 14, 2017",
          "Nov 13, 2017"
         ],
         "y": [
          16936.8,
          15455.4,
          15178.2,
          16569.4,
          17899.7,
          14291.5,
          11916.7,
          11657.2,
          11323.2,
          11074.6,
          10975.6,
          10233.6,
          9888.61,
          10058.8,
          9818.35,
          9330.55,
          8790.92,
          8253.69,
          8038.77,
          8253.55,
          8071.26,
          8200.64,
          8036.49,
          7790.15,
          7708.99,
          7871.69,
          7315.54,
          6635.75,
          6559.49
         ]
        }
       ],
       "layout": {}
      },
      "text/html": [
       "<div id=\"8f53f0a4-5d47-4780-bcbf-4083e4bb427d\" style=\"height: 525px; width: 100%;\" class=\"plotly-graph-div\"></div><script type=\"text/javascript\">require([\"plotly\"], function(Plotly) { window.PLOTLYENV=window.PLOTLYENV || {};window.PLOTLYENV.BASE_URL=\"https://plot.ly\";Plotly.newPlot(\"8f53f0a4-5d47-4780-bcbf-4083e4bb427d\", [{\"y\": [16936.8, 15455.4, 15178.2, 16569.4, 17899.7, 14291.5, 11916.7, 11657.2, 11323.2, 11074.6, 10975.6, 10233.6, 9888.61, 10058.8, 9818.35, 9330.55, 8790.92, 8253.69, 8038.77, 8253.55, 8071.26, 8200.64, 8036.49, 7790.15, 7708.99, 7871.69, 7315.54, 6635.75, 6559.49], \"x\": [\"Dec 11, 2017\", \"Dec 10, 2017\", \"Dec 09, 2017\", \"Dec 08, 2017\", \"Dec 07, 2017\", \"Dec 06, 2017\", \"Dec 05, 2017\", \"Dec 04, 2017\", \"Dec 03, 2017\", \"Dec 02, 2017\", \"Dec 01, 2017\", \"Nov 30, 2017\", \"Nov 29, 2017\", \"Nov 28, 2017\", \"Nov 27, 2017\", \"Nov 26, 2017\", \"Nov 25, 2017\", \"Nov 24, 2017\", \"Nov 23, 2017\", \"Nov 22, 2017\", \"Nov 21, 2017\", \"Nov 20, 2017\", \"Nov 19, 2017\", \"Nov 18, 2017\", \"Nov 17, 2017\", \"Nov 16, 2017\", \"Nov 15, 2017\", \"Nov 14, 2017\", \"Nov 13, 2017\"], \"type\": \"scatter\"}], {}, {\"linkText\": \"Export to plot.ly\", \"showLink\": true})});</script>"
      ],
      "text/vnd.plotly.v1+html": [
       "<div id=\"8f53f0a4-5d47-4780-bcbf-4083e4bb427d\" style=\"height: 525px; width: 100%;\" class=\"plotly-graph-div\"></div><script type=\"text/javascript\">require([\"plotly\"], function(Plotly) { window.PLOTLYENV=window.PLOTLYENV || {};window.PLOTLYENV.BASE_URL=\"https://plot.ly\";Plotly.newPlot(\"8f53f0a4-5d47-4780-bcbf-4083e4bb427d\", [{\"y\": [16936.8, 15455.4, 15178.2, 16569.4, 17899.7, 14291.5, 11916.7, 11657.2, 11323.2, 11074.6, 10975.6, 10233.6, 9888.61, 10058.8, 9818.35, 9330.55, 8790.92, 8253.69, 8038.77, 8253.55, 8071.26, 8200.64, 8036.49, 7790.15, 7708.99, 7871.69, 7315.54, 6635.75, 6559.49], \"x\": [\"Dec 11, 2017\", \"Dec 10, 2017\", \"Dec 09, 2017\", \"Dec 08, 2017\", \"Dec 07, 2017\", \"Dec 06, 2017\", \"Dec 05, 2017\", \"Dec 04, 2017\", \"Dec 03, 2017\", \"Dec 02, 2017\", \"Dec 01, 2017\", \"Nov 30, 2017\", \"Nov 29, 2017\", \"Nov 28, 2017\", \"Nov 27, 2017\", \"Nov 26, 2017\", \"Nov 25, 2017\", \"Nov 24, 2017\", \"Nov 23, 2017\", \"Nov 22, 2017\", \"Nov 21, 2017\", \"Nov 20, 2017\", \"Nov 19, 2017\", \"Nov 18, 2017\", \"Nov 17, 2017\", \"Nov 16, 2017\", \"Nov 15, 2017\", \"Nov 14, 2017\", \"Nov 13, 2017\"], \"type\": \"scatter\"}], {}, {\"linkText\": \"Export to plot.ly\", \"showLink\": true})});</script>"
      ]
     },
     "metadata": {},
     "output_type": "display_data"
    }
   ],
   "source": [
    "init_notebook_mode(connected=True)\n",
    "import plotly.plotly as py\n",
    "import plotly.graph_objs as go\n",
    "from plotly.offline import download_plotlyjs, init_notebook_mode, plot, iplot\n",
    "\n",
    "data = [go.Scatter(\n",
    "          x=df.Date[::-1],\n",
    "          y=df['Close'][::-1])]\n",
    "\n",
    "iplot(data)"
   ]
  },
  {
   "cell_type": "code",
   "execution_count": null,
   "metadata": {
    "collapsed": true
   },
   "outputs": [],
   "source": []
  }
 ],
 "metadata": {
  "kernelspec": {
   "display_name": "Python 2",
   "language": "python",
   "name": "python2"
  },
  "language_info": {
   "codemirror_mode": {
    "name": "ipython",
    "version": 2
   },
   "file_extension": ".py",
   "mimetype": "text/x-python",
   "name": "python",
   "nbconvert_exporter": "python",
   "pygments_lexer": "ipython2",
   "version": "2.7.13"
  }
 },
 "nbformat": 4,
 "nbformat_minor": 2
}
