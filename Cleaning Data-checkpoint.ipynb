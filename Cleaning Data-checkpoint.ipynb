{
 "cells": [
  {
   "cell_type": "markdown",
   "metadata": {},
   "source": [
    "## Load Data\n",
    "\n",
    "Load the data from csv file. It contains 1655 records. Each record has these values:     \n",
    "\n",
    "**Predictor Variables:**\n",
    "1. Open Price   \n",
    "2. Close Price            \n",
    "3. High Price  \n",
    "4. Low Price                          \n",
    "5. Volume              \n",
    "6. Market Cap       \n",
    "\n",
    "The goal is to be able to predict what bitcoin will increase in value on a day to day basis"
   ]
  },
  {
   "cell_type": "code",
   "execution_count": 119,
   "metadata": {},
   "outputs": [
    {
     "data": {
      "text/html": [
       "<div>\n",
       "<style>\n",
       "    .dataframe thead tr:only-child th {\n",
       "        text-align: right;\n",
       "    }\n",
       "\n",
       "    .dataframe thead th {\n",
       "        text-align: left;\n",
       "    }\n",
       "\n",
       "    .dataframe tbody tr th {\n",
       "        vertical-align: top;\n",
       "    }\n",
       "</style>\n",
       "<table border=\"1\" class=\"dataframe\">\n",
       "  <thead>\n",
       "    <tr style=\"text-align: right;\">\n",
       "      <th></th>\n",
       "      <th>Date</th>\n",
       "      <th>Open</th>\n",
       "      <th>High</th>\n",
       "      <th>Low</th>\n",
       "      <th>Close</th>\n",
       "      <th>Volume</th>\n",
       "      <th>Market Cap</th>\n",
       "    </tr>\n",
       "  </thead>\n",
       "  <tbody>\n",
       "    <tr>\n",
       "      <th>0</th>\n",
       "      <td>Nov 07, 2017</td>\n",
       "      <td>7023.10</td>\n",
       "      <td>7253.32</td>\n",
       "      <td>7023.10</td>\n",
       "      <td>7144.38</td>\n",
       "      <td>2,326,340,000</td>\n",
       "      <td>117,056,000,000</td>\n",
       "    </tr>\n",
       "    <tr>\n",
       "      <th>1</th>\n",
       "      <td>Nov 06, 2017</td>\n",
       "      <td>7403.22</td>\n",
       "      <td>7445.77</td>\n",
       "      <td>7007.31</td>\n",
       "      <td>7022.76</td>\n",
       "      <td>3,111,900,000</td>\n",
       "      <td>123,379,000,000</td>\n",
       "    </tr>\n",
       "    <tr>\n",
       "      <th>2</th>\n",
       "      <td>Nov 05, 2017</td>\n",
       "      <td>7404.52</td>\n",
       "      <td>7617.48</td>\n",
       "      <td>7333.19</td>\n",
       "      <td>7407.41</td>\n",
       "      <td>2,380,410,000</td>\n",
       "      <td>123,388,000,000</td>\n",
       "    </tr>\n",
       "    <tr>\n",
       "      <th>3</th>\n",
       "      <td>Nov 04, 2017</td>\n",
       "      <td>7164.48</td>\n",
       "      <td>7492.86</td>\n",
       "      <td>7031.28</td>\n",
       "      <td>7379.95</td>\n",
       "      <td>2,483,800,000</td>\n",
       "      <td>119,376,000,000</td>\n",
       "    </tr>\n",
       "    <tr>\n",
       "      <th>4</th>\n",
       "      <td>Nov 03, 2017</td>\n",
       "      <td>7087.53</td>\n",
       "      <td>7461.29</td>\n",
       "      <td>7002.94</td>\n",
       "      <td>7207.76</td>\n",
       "      <td>3,369,860,000</td>\n",
       "      <td>118,084,000,000</td>\n",
       "    </tr>\n",
       "  </tbody>\n",
       "</table>\n",
       "</div>"
      ],
      "text/plain": [
       "           Date     Open     High      Low    Close         Volume  \\\n",
       "0  Nov 07, 2017  7023.10  7253.32  7023.10  7144.38  2,326,340,000   \n",
       "1  Nov 06, 2017  7403.22  7445.77  7007.31  7022.76  3,111,900,000   \n",
       "2  Nov 05, 2017  7404.52  7617.48  7333.19  7407.41  2,380,410,000   \n",
       "3  Nov 04, 2017  7164.48  7492.86  7031.28  7379.95  2,483,800,000   \n",
       "4  Nov 03, 2017  7087.53  7461.29  7002.94  7207.76  3,369,860,000   \n",
       "\n",
       "        Market Cap  \n",
       "0  117,056,000,000  \n",
       "1  123,379,000,000  \n",
       "2  123,388,000,000  \n",
       "3  119,376,000,000  \n",
       "4  118,084,000,000  "
      ]
     },
     "execution_count": 119,
     "metadata": {},
     "output_type": "execute_result"
    }
   ],
   "source": [
    "import pandas as pd\n",
    "import numpy as np\n",
    "import matplotlib.pyplot as plt\n",
    "%matplotlib inline\n",
    "\n",
    "df = pd.read_csv('./data/bitcoin_price.csv', sep=',',header=0)\n",
    "df.head()"
   ]
  },
  {
   "cell_type": "markdown",
   "metadata": {},
   "source": [
    "## Preprocessing: \n",
    "### 1. Normalizing the data\n",
    "#### 1.1. Distribution of mean price\n",
    "\n",
    "By normalizing the data we can ensure that "
   ]
  },
  {
   "cell_type": "code",
   "execution_count": 120,
   "metadata": {
    "collapsed": true
   },
   "outputs": [],
   "source": [
    "from sklearn import preprocessing\n",
    "df = df.assign(Mean = (df['Open'] + df['Close']) / 2.)\n",
    "x=df['Mean']\n",
    "df = df.assign(normalize = preprocessing.scale(x))\n"
   ]
  },
  {
   "cell_type": "code",
   "execution_count": 121,
   "metadata": {},
   "outputs": [
    {
     "data": {
      "image/png": "[encoded data removed]",
      "text/plain": [
       "<matplotlib.figure.Figure at 0x118003590>"
      ]
     },
     "metadata": {},
     "output_type": "display_data"
    }
   ],
   "source": [
    "from scipy.stats.kde import gaussian_kde\n",
    "def kde_plot(x):   \n",
    "    kde = gaussian_kde(x)\n",
    "    positions = np.linspace(x.min(), x.max())\n",
    "    smoothed = kde(positions)\n",
    "    plt.plot(positions, smoothed)\n",
    "    \n",
    "def kde_values(x):   \n",
    "    kde = gaussian_kde(x)\n",
    "    positions = np.linspace(x.min(), x.max())\n",
    "    smoothed = kde(positions)\n",
    "    return positions, smoothed\n",
    "\n",
    "x=x.dropna()\n",
    "kde_plot(x)\n",
    "plt.title(\"Distribution of mean prices\")\n",
    "plt.show()"
   ]
  },
  {
   "cell_type": "markdown",
   "metadata": {},
   "source": [
    "### Distribution of the difference in price\n",
    "\n",
    "Uses the normalized data to find the distribution of price differentiation between days.\n",
    "Basically, how many instances are far away from the pervious days price or close."
   ]
  },
  {
   "cell_type": "code",
   "execution_count": 122,
   "metadata": {},
   "outputs": [
    {
     "data": {
      "image/png": "[encoded data removed]",
      "text/plain": [
       "<matplotlib.figure.Figure at 0x11747c8d0>"
      ]
     },
     "metadata": {},
     "output_type": "display_data"
    }
   ],
   "source": [
    "df = df.assign(Diff = df['normalize'].diff())\n",
    "df.head()\n",
    "x = df['Diff'].dropna()\n",
    "kde_plot(x)\n",
    "plt.title(\"Distribution of difference in prices\")\n",
    "plt.show()\n"
   ]
  },
  {
   "cell_type": "markdown",
   "metadata": {},
   "source": [
    "### Changing outlier data\n",
    "This finds the outliers that are far diffrent from the previous days and the nexts days, if they are it gets rid of the spike and finds a mean between the two"
   ]
  },
  {
   "cell_type": "code",
   "execution_count": 123,
   "metadata": {},
   "outputs": [
    {
     "data": {
      "image/png": "[encoded data removed]",
      "text/plain": [
       "<matplotlib.figure.Figure at 0x117a4ec10>"
      ]
     },
     "metadata": {},
     "output_type": "display_data"
    }
   ],
   "source": [
    "df = df.drop(df.index[-1])\n",
    "\n",
    "for x in range(len(df['Volume'])):\n",
    "    if df.loc[x, 'Volume'] == '-':\n",
    "        df.loc[x, 'Volume'] = None\n",
    "    else:\n",
    "        df.loc[x, 'Volume'] = df.loc[x, 'Volume'].replace(',', '')\n",
    "        df.loc[x,'Volume'] = int(df.loc[x,'Volume'])\n",
    "        \n",
    "    \n",
    "df['Volume'] = df['Volume'].fillna(df['Volume'].mean())\n",
    "\n",
    "\n",
    "\n",
    "\n",
    "df['Market Cap'] = df['Market Cap'].str.replace(',', '')\n",
    "df['Market Cap'] = df['Market Cap'].astype(int).fillna(0.0)\n",
    "\n",
    "df['Market Cap'] = df['Market Cap']\n",
    "\n",
    "\n",
    "#df['Volume'] = df['Volume'].map(lambda x: None if x == '-' else x)\n",
    "\n",
    "for y in range(len(df) - 1):\n",
    "    if (df.loc[y,'Diff'] > .1 and df.loc[y+1,'Diff'] > .1) or (df.loc[y,'Diff'] < -.1 and df.loc[y+1,'Diff'] < -.1):\n",
    "        df.loc[y,'Mean'] = (df.loc[y-1,'Mean'] + df.loc[y+1,'Mean']) / 2.\n",
    "        df.loc[y,'High'] = (df.loc[y-1,'High'] + df.loc[y+1,'High']) / 2.\n",
    "        df.loc[y,'Open'] = (df.loc[y-1,'Open'] + df.loc[y+1,'Open']) / 2.\n",
    "        df.loc[y,'Close'] = (df.loc[y-1,'Close'] + df.loc[y+1,'Close']) / 2.\n",
    "        df.loc[y,'Low'] = (df.loc[y-1,'Low'] + df.loc[y+1,'Low']) / 2.\n",
    "        df.loc[y,'Volume'] = (df.loc[y-1,'Volume'] + df.loc[y+1,'Volume']) / 2.\n",
    "        df.loc[y,'Market Cap'] = (df.loc[y-1,'Market Cap'] + df.loc[y+1,'Market Cap']) / 2.\n",
    "\n",
    "df['normalize'] = preprocessing.scale(df['Mean'])\n",
    "df['Diff'] = df['normalize'].diff()  \n",
    "x = df['Diff'].dropna()\n",
    "kde_plot(x)\n",
    "plt.title(\"Distribution of difference in prices after dropping outliers\")\n",
    "plt.show()"
   ]
  },
  {
   "cell_type": "markdown",
   "metadata": {},
   "source": [
    "## Processing the data\n",
    "### Uses a random forest to mine the data\n",
    "\n",
    "These results show that our random forest classifier is about 98% correct with the same dataset we passed it.\n",
    "\n",
    "The features of this dataset correspond to each column.  These features are printed out last. These features show that Open data is more important while Close data is least important."
   ]
  },
  {
   "cell_type": "code",
   "execution_count": 124,
   "metadata": {
    "scrolled": false
   },
   "outputs": [
    {
     "name": "stdout",
     "output_type": "stream",
     "text": [
      "              Date         Open         High          Low        Close  \\\n",
      "0     Nov 07, 2017  7023.100000  7253.320000  7023.100000  7144.380000   \n",
      "1     Nov 06, 2017  7213.810000  7435.400000  7178.145000  7275.895000   \n",
      "2     Nov 05, 2017  7404.520000  7617.480000  7333.190000  7407.410000   \n",
      "3     Nov 04, 2017  7246.025000  7539.385000  7168.065000  7307.585000   \n",
      "4     Nov 03, 2017  7011.897500  7453.357500  6963.392500  7193.042500   \n",
      "5     Nov 02, 2017  6726.433750  7110.333750  6670.636250  6980.176250   \n",
      "6     Nov 01, 2017  6429.226875  6790.381875  6386.983125  6724.288125   \n",
      "7     Oct 31, 2017  6272.038438  6502.685938  6213.916563  6427.409062   \n",
      "8     Oct 30, 2017  6013.239219  6379.197969  5969.248281  6290.629531   \n",
      "9     Oct 29, 2017  5900.529609  6127.958984  5829.219141  6021.859766   \n",
      "10    Oct 28, 2017  5787.820000  5876.720000  5689.190000  5753.090000   \n",
      "11    Oct 27, 2017  5899.740000  5988.390000  5728.820000  5780.900000   \n",
      "12    Oct 26, 2017  5747.950000  5976.800000  5721.220000  5904.830000   \n",
      "13    Oct 25, 2017  5524.600000  5754.330000  5397.880000  5750.800000   \n",
      "14    Oct 24, 2017  5935.520000  5935.520000  5504.180000  5526.640000   \n",
      "15    Oct 23, 2017  6006.000000  6075.590000  5732.470000  5930.320000   \n",
      "16    Oct 22, 2017  6036.660000  6076.260000  5792.340000  6008.420000   \n",
      "17    Oct 21, 2017  5996.790000  6194.880000  5965.070000  6031.600000   \n",
      "18    Oct 20, 2017  5790.265000  5969.615000  5748.065000  5870.060000   \n",
      "19    Oct 19, 2017  5583.740000  5744.350000  5531.060000  5708.520000   \n",
      "20    Oct 18, 2017  5603.820000  5603.820000  5151.440000  5590.690000   \n",
      "21    Oct 17, 2017  5741.580000  5800.350000  5472.720000  5605.510000   \n",
      "22    Oct 16, 2017  5687.570000  5776.230000  5544.210000  5725.590000   \n",
      "23    Oct 15, 2017  5835.960000  5852.480000  5478.610000  5678.190000   \n",
      "24    Oct 14, 2017  5643.530000  5837.700000  5591.640000  5831.790000   \n",
      "25    Oct 13, 2017  5236.555000  5642.305000  5206.820000  5639.350000   \n",
      "26    Oct 12, 2017  5012.902500  5258.017500  4979.225000  5232.915000   \n",
      "27    Oct 11, 2017  4789.250000  4873.730000  4751.630000  4826.480000   \n",
      "28    Oct 10, 2017  4776.210000  4922.170000  4765.100000  4781.990000   \n",
      "29    Oct 09, 2017  4614.520000  4878.710000  4564.250000  4772.020000   \n",
      "...            ...          ...          ...          ...          ...   \n",
      "1382  Jan 25, 2014   796.240000   861.450000   792.960000   853.610000   \n",
      "1383  Jan 24, 2014   822.430000   822.430000   783.580000   797.070000   \n",
      "1384  Jan 23, 2014   845.460000   851.570000   819.320000   822.040000   \n",
      "1385  Jan 22, 2014   867.210000   870.150000   837.360000   845.590000   \n",
      "1386  Jan 21, 2014   869.650000   881.200000   855.930000   863.910000   \n",
      "1387  Jan 20, 2014   871.390000   886.390000   853.870000   870.200000   \n",
      "1388  Jan 19, 2014   839.660000   870.960000   825.530000   870.960000   \n",
      "1389  Jan 18, 2014   816.070000   841.490000   816.070000   840.000000   \n",
      "1390  Jan 17, 2014   834.490000   842.910000   797.630000   814.640000   \n",
      "1391  Jan 16, 2014   860.290000   866.160000   835.630000   835.630000   \n",
      "1392  Jan 15, 2014   833.120000   872.810000   830.860000   860.900000   \n",
      "1393  Jan 14, 2014   843.170000   855.690000   825.660000   833.270000   \n",
      "1394  Jan 13, 2014   860.190000   861.290000   806.050000   841.200000   \n",
      "1395  Jan 12, 2014   919.600000   928.520000   851.170000   863.220000   \n",
      "1396  Jan 11, 2014   867.320000   921.480000   861.720000   913.950000   \n",
      "1397  Jan 10, 2014   846.690000   871.190000   822.600000   868.480000   \n",
      "1398  Jan 09, 2014   841.470000   864.360000   804.140000   846.860000   \n",
      "1399  Jan 08, 2014   795.990000   870.680000   776.180000   842.720000   \n",
      "1400  Jan 07, 2014   946.490000   965.740000   802.000000   802.000000   \n",
      "1401  Jan 06, 2014   936.050000  1017.120000   905.710000   953.290000   \n",
      "1402  Jan 05, 2014   858.550000   952.400000   854.520000   933.530000   \n",
      "1403  Jan 04, 2014   823.270000   859.510000   801.670000   859.510000   \n",
      "1404  Jan 03, 2014   802.850000   834.150000   789.120000   818.720000   \n",
      "1405  Jan 02, 2014   773.440000   820.310000   767.210000   802.390000   \n",
      "1406  Jan 01, 2014   754.970000   775.350000   754.970000   771.400000   \n",
      "1407  Dec 31, 2013   760.320000   760.580000   738.170000   754.010000   \n",
      "1408  Dec 30, 2013   741.350000   766.600000   740.240000   756.130000   \n",
      "1409  Dec 29, 2013   728.050000   748.610000   714.440000   745.050000   \n",
      "1410  Dec 28, 2013   737.980000   747.060000   705.350000   727.830000   \n",
      "1411  Dec 27, 2013   763.280000   777.510000   713.600000   735.070000   \n",
      "\n",
      "            Volume    Market Cap         Mean  normalize      Diff  Class  \n",
      "0     2.326340e+09  1.170560e+11  7083.740000   5.624654       NaN  False  \n",
      "1     2.353375e+09  1.202220e+11  7244.852500   5.769435  0.144781  False  \n",
      "2     2.380410e+09  1.233880e+11  7405.965000   5.914215  0.144781   True  \n",
      "3     2.875135e+09  1.207360e+11  7276.805000   5.798148 -0.116067   True  \n",
      "4     3.764452e+09  1.168230e+11  7102.470000   5.641486 -0.156663   True  \n",
      "5     3.317386e+09  1.120550e+11  6853.305000   5.417578 -0.223907   True  \n",
      "6     2.814383e+09  1.070925e+11  6576.757500   5.169064 -0.248514   True  \n",
      "7     2.293267e+09  1.044628e+11  6349.723750   4.965045 -0.204019   True  \n",
      "8     2.576153e+09  1.001413e+11  6151.934375   4.787305 -0.177740   True  \n",
      "9     1.990037e+09  9.825544e+10  5961.194688   4.615901 -0.171404   True  \n",
      "10    1.403920e+09  9.636960e+10  5770.455000   4.444496 -0.171404  False  \n",
      "11    1.710130e+09  9.822540e+10  5840.320000   4.507279  0.062783  False  \n",
      "12    1.905040e+09  9.568510e+10  5826.390000   4.494761 -0.012518   True  \n",
      "13    1.966990e+09  9.195420e+10  5637.700000   4.325199 -0.169563   True  \n",
      "14    2.735700e+09  9.878160e+10  5731.080000   4.409113  0.083914  False  \n",
      "15    2.401840e+09  9.994160e+10  5968.160000   4.622160  0.213047  False  \n",
      "16    2.034630e+09  1.004380e+11  6022.540000   4.671028  0.048868  False  \n",
      "17    2.207100e+09  9.976320e+10  6014.195000   4.663529 -0.007499   True  \n",
      "18    1.993820e+09  9.631510e+10  5830.162500   4.498151 -0.165377   True  \n",
      "19    1.780540e+09  9.286700e+10  5646.130000   4.332774 -0.165377   True  \n",
      "20    2.399270e+09  9.319020e+10  5597.255000   4.288854 -0.043921  False  \n",
      "21    1.821570e+09  9.546930e+10  5673.545000   4.357410  0.068557  False  \n",
      "22    2.008070e+09  9.455900e+10  5706.580000   4.387096  0.029686   True  \n",
      "23    1.976040e+09  9.701190e+10  5757.075000   4.432473  0.045376  False  \n",
      "24    1.669030e+09  9.380300e+10  5737.660000   4.415026 -0.017447   True  \n",
      "25    2.230320e+09  8.702985e+10  5437.952500   4.145700 -0.269326   True  \n",
      "26    1.726300e+09  8.330402e+10  5122.908750   3.862592 -0.283108   True  \n",
      "27    1.222280e+09  7.957820e+10  4807.865000   3.579484 -0.283108   True  \n",
      "28    1.597140e+09  7.935180e+10  4779.100000   3.553635 -0.025849   True  \n",
      "29    1.968740e+09  7.665650e+10  4693.270000   3.476505 -0.077129   True  \n",
      "...            ...           ...          ...        ...       ...    ...  \n",
      "1382  2.430390e+07  9.799920e+09   824.925000   0.000293 -0.040038   True  \n",
      "1383  3.491200e+07  1.011840e+10   809.750000  -0.013344 -0.013637  False  \n",
      "1384  1.560710e+07  1.039800e+10   833.750000   0.008223  0.021567  False  \n",
      "1385  1.845370e+07  1.066140e+10   856.400000   0.028577  0.020354  False  \n",
      "1386  1.899730e+07  1.068770e+10   866.780000   0.037905  0.009328  False  \n",
      "1387  2.765270e+07  1.070480e+10   870.795000   0.041513  0.003608  False  \n",
      "1388  2.436570e+07  1.031150e+10   855.310000   0.027598 -0.013915   True  \n",
      "1389  1.805270e+07  1.001820e+10   828.035000   0.003088 -0.024510   True  \n",
      "1390  3.903170e+07  1.024120e+10   824.565000  -0.000031 -0.003118  False  \n",
      "1391  1.914930e+07  1.055380e+10   847.960000   0.020993  0.021023  False  \n",
      "1392  2.810720e+07  1.021670e+10   847.010000   0.020139 -0.000854   True  \n",
      "1393  2.082980e+07  1.033650e+10   838.220000   0.012240 -0.007899  False  \n",
      "1394  4.558090e+07  1.054150e+10   850.695000   0.023450  0.011210  False  \n",
      "1395  3.962350e+07  1.126480e+10   891.410000   0.060038  0.036588  False  \n",
      "1396  4.475420e+07  1.061990e+10   890.635000   0.059342 -0.000696   True  \n",
      "1397  3.187680e+07  1.036330e+10   857.585000   0.029642 -0.029700   True  \n",
      "1398  5.999860e+07  1.029510e+10   844.165000   0.017582 -0.012060   True  \n",
      "1399  7.417560e+07  9.734800e+09   819.355000  -0.004713 -0.022295   True  \n",
      "1400  8.131170e+07  1.157140e+10   874.245000   0.044613  0.049326  False  \n",
      "1401  8.556570e+07  1.141040e+10   944.670000   0.107899  0.063286   True  \n",
      "1402  7.289850e+07  1.046570e+10   896.040000   0.064199 -0.043700   True  \n",
      "1403  3.800500e+07  1.003560e+10   841.390000   0.015089 -0.049110   True  \n",
      "1404  3.781010e+07  9.786680e+09   810.785000  -0.012414 -0.027503   True  \n",
      "1405  3.848950e+07  9.428180e+09   787.915000  -0.032966 -0.020552   True  \n",
      "1406  2.248940e+07  9.203030e+09   763.185000  -0.055189 -0.022223   True  \n",
      "1407  2.089730e+07  9.268240e+09   757.165000  -0.060598 -0.005410  False  \n",
      "1408  2.070770e+07  9.037000e+09   748.740000  -0.068169 -0.007571   True  \n",
      "1409  1.901130e+07  8.872600e+09   736.550000  -0.079124 -0.010954   True  \n",
      "1410  3.250580e+07  8.990850e+09   732.905000  -0.082399 -0.003276  False  \n",
      "1411  4.686270e+07  9.295570e+09   749.175000  -0.067778  0.014621  False  \n",
      "\n",
      "[1412 rows x 11 columns]\n",
      "(1412,)\n",
      "(1412, 6)\n",
      "classif_rate for RandomForestClassifier : 99.008499 \n",
      "[ 0.20135813  0.13676611  0.15190902  0.21798123  0.14106722  0.15091828]\n"
     ]
    }
   ],
   "source": [
    "\n",
    "df['Class'] = None #Creates a class analysis for the data\n",
    "for y in range(len(df)-1):\n",
    "    if df.loc[y+1,'Close'] < df.loc[y,'Close']:\n",
    "        df.loc[y, 'Class'] = True\n",
    "    else:\n",
    "        df.loc[y, 'Class'] = False\n",
    "        \n",
    "df = df.drop(df.index[-1])\n",
    "df = df[:1412]\n",
    "\n",
    "\n",
    "#df = df.drop(['Mean', 'normalize', 'Diff'], axis=1)\n",
    "\n",
    "print df\n",
    "\n",
    "from sklearn.ensemble import RandomForestClassifier\n",
    "y=df.iloc[:,-1].fillna(df.mean()).as_matrix()\n",
    "\n",
    "x=df.iloc[:,1:7].fillna(df.mean()).as_matrix()\n",
    "rfc = RandomForestClassifier(max_depth=25, random_state=0)  #Inits rfc\n",
    "\n",
    "print y.shape\n",
    "print x.shape\n",
    "\n",
    "x = preprocessing.StandardScaler().fit_transform(x)  #normalizes data\n",
    "rfc.fit(x,y)  #Builds tree\n",
    "y_pred = rfc.predict(x)    #Runs same data through tree\n",
    "classif_rate = np.mean(y_pred.ravel() == y.ravel()) * 100   #Correct rate\n",
    "print(\"classif_rate for %s : %f \" % ('RandomForestClassifier', classif_rate))   \n",
    "print rfc.feature_importances_   #prints the features\n"
   ]
  },
  {
   "cell_type": "code",
   "execution_count": 125,
   "metadata": {
    "collapsed": true
   },
   "outputs": [],
   "source": [
    "df.to_csv('./data/stepTwoData.csv')"
   ]
  },
  {
   "cell_type": "code",
   "execution_count": null,
   "metadata": {
    "collapsed": true
   },
   "outputs": [],
   "source": []
  }
 ],
 "metadata": {
  "kernelspec": {
   "display_name": "Python 2",
   "language": "python",
   "name": "python2"
  },
  "language_info": {
   "codemirror_mode": {
    "name": "ipython",
    "version": 2
   },
   "file_extension": ".py",
   "mimetype": "text/x-python",
   "name": "python",
   "nbconvert_exporter": "python",
   "pygments_lexer": "ipython2",
   "version": "2.7.13"
  }
 },
 "nbformat": 4,
 "nbformat_minor": 2
}
